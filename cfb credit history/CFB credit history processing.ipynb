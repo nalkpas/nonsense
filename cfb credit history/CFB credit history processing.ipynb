{
 "cells": [
  {
   "cell_type": "code",
   "execution_count": 1,
   "metadata": {},
   "outputs": [],
   "source": [
    "with open('raw.txt', 'r') as file:\n",
    "    text = file.readlines()"
   ]
  },
  {
   "cell_type": "code",
   "execution_count": 29,
   "metadata": {},
   "outputs": [],
   "source": [
    "counter = 0\n",
    "output = []\n",
    "new_line = []\n",
    "for line in text:\n",
    "    if line.strip() == '' or line.strip() == '<div class=\"my-credits-info small-12 columns\">' or line.strip() == '</div>':\n",
    "        continue\n",
    "    fu = line.split('>')[1]\n",
    "    bar = fu.split('<')[0]\n",
    "    if counter % 4 == 0:\n",
    "        output.append(new_line)\n",
    "        new_line = []\n",
    "        new_line.append(bar)\n",
    "    else:\n",
    "        new_line.append(bar)\n",
    "    counter +=1\n",
    "    "
   ]
  },
  {
   "cell_type": "code",
   "execution_count": 30,
   "metadata": {},
   "outputs": [
    {
     "data": {
      "text/plain": [
       "[[],\n",
       " ['February 26th, 2019 21:47', '$4.00', 'Prize', 'erickubo'],\n",
       " ['February 26th, 2019 18:01', '-$5.44', 'purchjase cp', 'Don Bui'],\n",
       " ['February 26th, 2019 16:59', '-$3.00', 'Payment for order #31423082', ''],\n",
       " ['February 26th, 2019 16:54',\n",
       "  '$10.00',\n",
       "  'Got fixed store credit as part of a coupon (CFB10) applied to order #31422095',\n",
       "  '']]"
      ]
     },
     "execution_count": 30,
     "metadata": {},
     "output_type": "execute_result"
    }
   ],
   "source": [
    "output[:5]"
   ]
  },
  {
   "cell_type": "code",
   "execution_count": 32,
   "metadata": {},
   "outputs": [
    {
     "data": {
      "text/html": [
       "<div>\n",
       "<style scoped>\n",
       "    .dataframe tbody tr th:only-of-type {\n",
       "        vertical-align: middle;\n",
       "    }\n",
       "\n",
       "    .dataframe tbody tr th {\n",
       "        vertical-align: top;\n",
       "    }\n",
       "\n",
       "    .dataframe thead th {\n",
       "        text-align: right;\n",
       "    }\n",
       "</style>\n",
       "<table border=\"1\" class=\"dataframe\">\n",
       "  <thead>\n",
       "    <tr style=\"text-align: right;\">\n",
       "      <th></th>\n",
       "      <th>0</th>\n",
       "      <th>1</th>\n",
       "      <th>2</th>\n",
       "      <th>3</th>\n",
       "    </tr>\n",
       "  </thead>\n",
       "  <tbody>\n",
       "    <tr>\n",
       "      <th>0</th>\n",
       "      <td>February 26th, 2019 21:47</td>\n",
       "      <td>$4.00</td>\n",
       "      <td>Prize</td>\n",
       "      <td>erickubo</td>\n",
       "    </tr>\n",
       "    <tr>\n",
       "      <th>1</th>\n",
       "      <td>February 26th, 2019 18:01</td>\n",
       "      <td>-$5.44</td>\n",
       "      <td>purchjase cp</td>\n",
       "      <td>Don Bui</td>\n",
       "    </tr>\n",
       "    <tr>\n",
       "      <th>2</th>\n",
       "      <td>February 26th, 2019 16:59</td>\n",
       "      <td>-$3.00</td>\n",
       "      <td>Payment for order #31423082</td>\n",
       "      <td></td>\n",
       "    </tr>\n",
       "    <tr>\n",
       "      <th>3</th>\n",
       "      <td>February 26th, 2019 16:54</td>\n",
       "      <td>$10.00</td>\n",
       "      <td>Got fixed store credit as part of a coupon (CF...</td>\n",
       "      <td></td>\n",
       "    </tr>\n",
       "    <tr>\n",
       "      <th>4</th>\n",
       "      <td>February 26th, 2019 09:17</td>\n",
       "      <td>-$126.77</td>\n",
       "      <td>Payment for order #31422095</td>\n",
       "      <td></td>\n",
       "    </tr>\n",
       "  </tbody>\n",
       "</table>\n",
       "</div>"
      ],
      "text/plain": [
       "                           0         1  \\\n",
       "0  February 26th, 2019 21:47     $4.00   \n",
       "1  February 26th, 2019 18:01    -$5.44   \n",
       "2  February 26th, 2019 16:59    -$3.00   \n",
       "3  February 26th, 2019 16:54    $10.00   \n",
       "4  February 26th, 2019 09:17  -$126.77   \n",
       "\n",
       "                                                   2         3  \n",
       "0                                              Prize  erickubo  \n",
       "1                                       purchjase cp   Don Bui  \n",
       "2                        Payment for order #31423082            \n",
       "3  Got fixed store credit as part of a coupon (CF...            \n",
       "4                        Payment for order #31422095            "
      ]
     },
     "execution_count": 32,
     "metadata": {},
     "output_type": "execute_result"
    }
   ],
   "source": [
    "import pandas as pd\n",
    "df = pd.DataFrame([['date', 'amount', 'reason', '']] + output[1:])\n",
    "df.head()"
   ]
  },
  {
   "cell_type": "code",
   "execution_count": 33,
   "metadata": {},
   "outputs": [],
   "source": [
    "df.to_csv('cfb_history.csv')"
   ]
  },
  {
   "cell_type": "code",
   "execution_count": null,
   "metadata": {},
   "outputs": [],
   "source": []
  }
 ],
 "metadata": {
  "kernelspec": {
   "display_name": "Python 3",
   "language": "python",
   "name": "python3"
  },
  "language_info": {
   "codemirror_mode": {
    "name": "ipython",
    "version": 3
   },
   "file_extension": ".py",
   "mimetype": "text/x-python",
   "name": "python",
   "nbconvert_exporter": "python",
   "pygments_lexer": "ipython3",
   "version": "3.7.2"
  }
 },
 "nbformat": 4,
 "nbformat_minor": 2
}
